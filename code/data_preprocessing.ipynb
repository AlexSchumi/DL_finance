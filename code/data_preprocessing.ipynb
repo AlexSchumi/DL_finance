{
 "cells": [
  {
   "cell_type": "code",
   "execution_count": 73,
   "metadata": {
    "collapsed": false
   },
   "outputs": [],
   "source": [
    "\"\"\"\n",
    "Get all symbols for SP500\n",
    "\n",
    "\"\"\"\n",
    "import quandl\n",
    "import datetime\n",
    "import matplotlib.pyplot as plt\n",
    "import pandas as pd\n",
    "import numpy as np\n",
    "\n",
    "SYM = pd.read_csv('SPstocks_current.csv', header=None)\n",
    "SYM = list(SYM.iloc[:,0]) # turn all SP500 symbols into list"
   ]
  },
  {
   "cell_type": "code",
   "execution_count": 74,
   "metadata": {
    "collapsed": false
   },
   "outputs": [],
   "source": [
    "quandl.ApiConfig.api_key = 'm1zz8KeS-T1ggj9YdMbX'  #My API to scrape data\n",
    " \n",
    "def quandl_stocks(symbol, start_date=(2010, 1, 1), end_date=None):\n",
    "    \"\"\"\n",
    "    symbol is a string representing a stock symbol, e.g. 'AAPL'\n",
    " \n",
    "    start_date and end_date are tuples of integers representing the year, month,\n",
    "    and day\n",
    " \n",
    "    end_date defaults to the current date when None\n",
    "    \"\"\"\n",
    " \n",
    "    query_list = ['WIKI' + '/' + symbol + '.' + str(k) for k in range(1, 13)]\n",
    " \n",
    "    start_date = datetime.date(*start_date)\n",
    " \n",
    "    if end_date:\n",
    "        end_date = datetime.date(*end_date)\n",
    "    else:\n",
    "        end_date = datetime.date.today()\n",
    " \n",
    "    return quandl.get(query_list, \n",
    "            returns='pandas', \n",
    "            start_date=start_date,\n",
    "            end_date=end_date,\n",
    "            collapse='daily',\n",
    "            order='asc'\n",
    "            )"
   ]
  },
  {
   "cell_type": "code",
   "execution_count": 75,
   "metadata": {
    "collapsed": false
   },
   "outputs": [],
   "source": [
    "\"\"\"\n",
    "Visualize Stock data\n",
    "\"\"\"\n",
    "AAPL = quandl_stocks('AAPL')\n",
    "AAPL_date = AAPL.iloc[:,0]\n",
    "AAPL_close = AAPL['WIKI/AAPL - Close']"
   ]
  },
  {
   "cell_type": "code",
   "execution_count": 76,
   "metadata": {
    "collapsed": false
   },
   "outputs": [
    {
     "data": {
      "image/png": "[encoded data removed]",
      "text/plain": [
       "<Figure size 432x288 with 1 Axes>"
      ]
     },
     "metadata": {},
     "output_type": "display_data"
    },
    {
     "data": {
      "text/plain": [
       "Date\n",
       "2010-01-04    214.010\n",
       "2010-01-05    214.380\n",
       "2010-01-06    210.970\n",
       "2010-01-07    210.580\n",
       "2010-01-08    211.980\n",
       "2010-01-11    210.110\n",
       "2010-01-12    207.720\n",
       "2010-01-13    210.650\n",
       "2010-01-14    209.430\n",
       "2010-01-15    205.930\n",
       "2010-01-19    215.040\n",
       "2010-01-20    211.725\n",
       "2010-01-21    208.072\n",
       "2010-01-22    197.750\n",
       "2010-01-25    203.075\n",
       "2010-01-26    205.940\n",
       "2010-01-27    207.884\n",
       "2010-01-28    199.290\n",
       "2010-01-29    192.063\n",
       "2010-02-01    194.730\n",
       "2010-02-02    195.860\n",
       "2010-02-03    199.230\n",
       "2010-02-04    192.050\n",
       "2010-02-05    195.460\n",
       "2010-02-08    194.120\n",
       "2010-02-09    196.190\n",
       "2010-02-10    195.116\n",
       "2010-02-11    198.670\n",
       "2010-02-12    200.380\n",
       "2010-02-16    203.400\n",
       "               ...   \n",
       "2018-02-12    162.710\n",
       "2018-02-13    164.340\n",
       "2018-02-14    167.370\n",
       "2018-02-15    172.990\n",
       "2018-02-16    172.430\n",
       "2018-02-20    171.850\n",
       "2018-02-21    171.070\n",
       "2018-02-22    172.600\n",
       "2018-02-23    175.555\n",
       "2018-02-26    178.970\n",
       "2018-02-27    178.390\n",
       "2018-02-28    178.120\n",
       "2018-03-01    175.000\n",
       "2018-03-02    176.210\n",
       "2018-03-05    176.820\n",
       "2018-03-06    176.670\n",
       "2018-03-07    175.030\n",
       "2018-03-08    176.940\n",
       "2018-03-09    179.980\n",
       "2018-03-12    181.720\n",
       "2018-03-13    179.970\n",
       "2018-03-14    178.440\n",
       "2018-03-15    178.650\n",
       "2018-03-16    178.020\n",
       "2018-03-19    175.300\n",
       "2018-03-20    175.240\n",
       "2018-03-21    171.270\n",
       "2018-03-22    168.845\n",
       "2018-03-23    164.940\n",
       "2018-03-26    172.770\n",
       "Name: WIKI/AAPL - Close, Length: 2069, dtype: float64"
      ]
     },
     "execution_count": 76,
     "metadata": {},
     "output_type": "execute_result"
    }
   ],
   "source": [
    "plt.plot(AAPL_close)\n",
    "plt.show()\n",
    "AAPL_close"
   ]
  },
  {
   "cell_type": "code",
   "execution_count": 68,
   "metadata": {
    "collapsed": false
   },
   "outputs": [
    {
     "name": "stderr",
     "output_type": "stream",
     "text": [
      "/Users/Schumi/anaconda/lib/python3.6/site-packages/numpy/core/fromnumeric.py:57: FutureWarning: 'argmax' is deprecated. Use 'idxmax' instead. The behavior of 'argmax' will be corrected to return the positional maximum in the future. Use 'series.values.argmax' to get the position of the maximum now.\n",
      "  return getattr(obj, method)(*args, **kwds)\n"
     ]
    }
   ],
   "source": [
    "idx = np.argmax(AAPL_close)"
   ]
  },
  {
   "cell_type": "code",
   "execution_count": 70,
   "metadata": {
    "collapsed": false
   },
   "outputs": [
    {
     "data": {
      "text/plain": [
       "702.10000000000002"
      ]
     },
     "execution_count": 70,
     "metadata": {},
     "output_type": "execute_result"
    }
   ],
   "source": [
    "AAPL_close.max()"
   ]
  },
  {
   "cell_type": "code",
   "execution_count": null,
   "metadata": {
    "collapsed": true
   },
   "outputs": [],
   "source": [
    "def Get_pattern(symbol):\n",
    "    \"\"\"\n",
    "    symbol is a string representing a stock symbol, e.g. 'AAPL'\n",
    " \n",
    "    \"\"\"\n",
    "    data = quandl_stocks(symbol)['WIKI/AAPL - Close']\n",
    "    \n",
    "    \n",
    "    \n",
    " "
   ]
  },
  {
   "cell_type": "code",
   "execution_count": 27,
   "metadata": {
    "collapsed": true
   },
   "outputs": [],
   "source": [
    "# Test for Apple stock data;\n",
    "AAPL = quandl_stocks('AAPL')"
   ]
  },
  {
   "cell_type": "code",
   "execution_count": 36,
   "metadata": {
    "collapsed": false
   },
   "outputs": [
    {
     "data": {
      "text/html": [
       "<div>\n",
       "<style scoped>\n",
       "    .dataframe tbody tr th:only-of-type {\n",
       "        vertical-align: middle;\n",
       "    }\n",
       "\n",
       "    .dataframe tbody tr th {\n",
       "        vertical-align: top;\n",
       "    }\n",
       "\n",
       "    .dataframe thead th {\n",
       "        text-align: right;\n",
       "    }\n",
       "</style>\n",
       "<table border=\"1\" class=\"dataframe\">\n",
       "  <thead>\n",
       "    <tr style=\"text-align: right;\">\n",
       "      <th></th>\n",
       "      <th>WIKI/AAPL - Open</th>\n",
       "      <th>WIKI/AAPL - High</th>\n",
       "      <th>WIKI/AAPL - Low</th>\n",
       "      <th>WIKI/AAPL - Close</th>\n",
       "      <th>WIKI/AAPL - Volume</th>\n",
       "      <th>WIKI/AAPL - Ex-Dividend</th>\n",
       "      <th>WIKI/AAPL - Split Ratio</th>\n",
       "      <th>WIKI/AAPL - Adj. Open</th>\n",
       "      <th>WIKI/AAPL - Adj. High</th>\n",
       "      <th>WIKI/AAPL - Adj. Low</th>\n",
       "      <th>WIKI/AAPL - Adj. Close</th>\n",
       "      <th>WIKI/AAPL - Adj. Volume</th>\n",
       "    </tr>\n",
       "    <tr>\n",
       "      <th>Date</th>\n",
       "      <th></th>\n",
       "      <th></th>\n",
       "      <th></th>\n",
       "      <th></th>\n",
       "      <th></th>\n",
       "      <th></th>\n",
       "      <th></th>\n",
       "      <th></th>\n",
       "      <th></th>\n",
       "      <th></th>\n",
       "      <th></th>\n",
       "      <th></th>\n",
       "    </tr>\n",
       "  </thead>\n",
       "  <tbody>\n",
       "    <tr>\n",
       "      <th>2000-01-03</th>\n",
       "      <td>104.87</td>\n",
       "      <td>112.50</td>\n",
       "      <td>101.69</td>\n",
       "      <td>111.94</td>\n",
       "      <td>4783900.0</td>\n",
       "      <td>0.0</td>\n",
       "      <td>1.0</td>\n",
       "      <td>3.369314</td>\n",
       "      <td>3.614454</td>\n",
       "      <td>3.267146</td>\n",
       "      <td>3.596463</td>\n",
       "      <td>133949200.0</td>\n",
       "    </tr>\n",
       "    <tr>\n",
       "      <th>2000-01-04</th>\n",
       "      <td>108.25</td>\n",
       "      <td>110.62</td>\n",
       "      <td>101.19</td>\n",
       "      <td>102.50</td>\n",
       "      <td>4574800.0</td>\n",
       "      <td>0.0</td>\n",
       "      <td>1.0</td>\n",
       "      <td>3.477908</td>\n",
       "      <td>3.554053</td>\n",
       "      <td>3.251081</td>\n",
       "      <td>3.293170</td>\n",
       "      <td>128094400.0</td>\n",
       "    </tr>\n",
       "    <tr>\n",
       "      <th>2000-01-05</th>\n",
       "      <td>103.75</td>\n",
       "      <td>110.56</td>\n",
       "      <td>103.00</td>\n",
       "      <td>104.00</td>\n",
       "      <td>6949300.0</td>\n",
       "      <td>0.0</td>\n",
       "      <td>1.0</td>\n",
       "      <td>3.333330</td>\n",
       "      <td>3.552125</td>\n",
       "      <td>3.309234</td>\n",
       "      <td>3.341362</td>\n",
       "      <td>194580400.0</td>\n",
       "    </tr>\n",
       "    <tr>\n",
       "      <th>2000-01-06</th>\n",
       "      <td>106.12</td>\n",
       "      <td>107.00</td>\n",
       "      <td>95.00</td>\n",
       "      <td>95.00</td>\n",
       "      <td>6856900.0</td>\n",
       "      <td>0.0</td>\n",
       "      <td>1.0</td>\n",
       "      <td>3.409475</td>\n",
       "      <td>3.437748</td>\n",
       "      <td>3.052206</td>\n",
       "      <td>3.052206</td>\n",
       "      <td>191993200.0</td>\n",
       "    </tr>\n",
       "    <tr>\n",
       "      <th>2000-01-07</th>\n",
       "      <td>96.50</td>\n",
       "      <td>101.00</td>\n",
       "      <td>95.50</td>\n",
       "      <td>99.50</td>\n",
       "      <td>4113700.0</td>\n",
       "      <td>0.0</td>\n",
       "      <td>1.0</td>\n",
       "      <td>3.100399</td>\n",
       "      <td>3.244977</td>\n",
       "      <td>3.068270</td>\n",
       "      <td>3.196784</td>\n",
       "      <td>115183600.0</td>\n",
       "    </tr>\n",
       "  </tbody>\n",
       "</table>\n",
       "</div>"
      ],
      "text/plain": [
       "            WIKI/AAPL - Open  WIKI/AAPL - High  WIKI/AAPL - Low  \\\n",
       "Date                                                              \n",
       "2000-01-03            104.87            112.50           101.69   \n",
       "2000-01-04            108.25            110.62           101.19   \n",
       "2000-01-05            103.75            110.56           103.00   \n",
       "2000-01-06            106.12            107.00            95.00   \n",
       "2000-01-07             96.50            101.00            95.50   \n",
       "\n",
       "            WIKI/AAPL - Close  WIKI/AAPL - Volume  WIKI/AAPL - Ex-Dividend  \\\n",
       "Date                                                                         \n",
       "2000-01-03             111.94           4783900.0                      0.0   \n",
       "2000-01-04             102.50           4574800.0                      0.0   \n",
       "2000-01-05             104.00           6949300.0                      0.0   \n",
       "2000-01-06              95.00           6856900.0                      0.0   \n",
       "2000-01-07              99.50           4113700.0                      0.0   \n",
       "\n",
       "            WIKI/AAPL - Split Ratio  WIKI/AAPL - Adj. Open  \\\n",
       "Date                                                         \n",
       "2000-01-03                      1.0               3.369314   \n",
       "2000-01-04                      1.0               3.477908   \n",
       "2000-01-05                      1.0               3.333330   \n",
       "2000-01-06                      1.0               3.409475   \n",
       "2000-01-07                      1.0               3.100399   \n",
       "\n",
       "            WIKI/AAPL - Adj. High  WIKI/AAPL - Adj. Low  \\\n",
       "Date                                                      \n",
       "2000-01-03               3.614454              3.267146   \n",
       "2000-01-04               3.554053              3.251081   \n",
       "2000-01-05               3.552125              3.309234   \n",
       "2000-01-06               3.437748              3.052206   \n",
       "2000-01-07               3.244977              3.068270   \n",
       "\n",
       "            WIKI/AAPL - Adj. Close  WIKI/AAPL - Adj. Volume  \n",
       "Date                                                         \n",
       "2000-01-03                3.596463              133949200.0  \n",
       "2000-01-04                3.293170              128094400.0  \n",
       "2000-01-05                3.341362              194580400.0  \n",
       "2000-01-06                3.052206              191993200.0  \n",
       "2000-01-07                3.196784              115183600.0  "
      ]
     },
     "execution_count": 36,
     "metadata": {},
     "output_type": "execute_result"
    }
   ],
   "source": [
    "AAPL.head()"
   ]
  },
  {
   "cell_type": "code",
   "execution_count": 37,
   "metadata": {
    "collapsed": false
   },
   "outputs": [
    {
     "data": {
      "text/plain": [
       "array(['WIKI/AAPL - Open', 'WIKI/AAPL - High', 'WIKI/AAPL - Low',\n",
       "       'WIKI/AAPL - Close', 'WIKI/AAPL - Volume',\n",
       "       'WIKI/AAPL - Ex-Dividend', 'WIKI/AAPL - Split Ratio',\n",
       "       'WIKI/AAPL - Adj. Open', 'WIKI/AAPL - Adj. High',\n",
       "       'WIKI/AAPL - Adj. Low', 'WIKI/AAPL - Adj. Close',\n",
       "       'WIKI/AAPL - Adj. Volume'], dtype=object)"
      ]
     },
     "execution_count": 37,
     "metadata": {},
     "output_type": "execute_result"
    }
   ],
   "source": [
    "AAPL.columns.values"
   ]
  },
  {
   "cell_type": "code",
   "execution_count": 10,
   "metadata": {
    "collapsed": false
   },
   "outputs": [],
   "source": [
    "data = quandl_stocks('AAPL')['WIKI/AAPL - Close']"
   ]
  },
  {
   "cell_type": "code",
   "execution_count": 31,
   "metadata": {
    "collapsed": true
   },
   "outputs": [],
   "source": [
    "data = quandl.get('NSE/OIL')"
   ]
  },
  {
   "cell_type": "code",
   "execution_count": 78,
   "metadata": {
    "collapsed": false
   },
   "outputs": [
    {
     "name": "stdout",
     "output_type": "stream",
     "text": [
      "Empty DataFrame\n",
      "Columns: [<html><head><meta http-equiv=\"content-type\" content=\"text/html; charset=utf-8\"/><title>Sorry...</title><style> body { font-family: verdana,  arial,  sans-serif; background-color: #fff; color: #000; }</style></head><body><div><table><tr><td><b><font face=sans-serif size=10><font color=#4285f4>G</font><font color=#ea4335>o</font><font color=#fbbc05>o</font><font color=#4285f4>g</font><font color=#34a853>l</font><font color=#ea4335>e</font></font></b></td><td style=\"text-align: left; vertical-align: bottom; padding-bottom: 15px; width: 50%\"><div style=\"border-bottom: 1px solid #dfdfdf;\">Sorry...</div></td></tr></table></div><div style=\"margin-left: 4em;\"><h1>We're sorry...</h1><p>... but your computer or network may be sending automated queries. To protect our users,  we can't process your request right now.</p></div><div style=\"margin-left: 4em;\">See <a href=\"https://support.google.com/websearch/answer/86640\">Google Help</a> for more information.<br/><br/></div><div style=\"text-align: center; border-top: 1px solid #dfdfdf;\"><a href=\"https://www.google.com\">Google Home</a></div></body></html>]\n",
      "Index: []\n",
      "Empty DataFrame\n",
      "Columns: [<html><head><meta http-equiv=\"content-type\" content=\"text/html; charset=utf-8\"/><title>Sorry...</title><style> body { font-family: verdana,  arial,  sans-serif; background-color: #fff; color: #000; }</style></head><body><div><table><tr><td><b><font face=sans-serif size=10><font color=#4285f4>G</font><font color=#ea4335>o</font><font color=#fbbc05>o</font><font color=#4285f4>g</font><font color=#34a853>l</font><font color=#ea4335>e</font></font></b></td><td style=\"text-align: left; vertical-align: bottom; padding-bottom: 15px; width: 50%\"><div style=\"border-bottom: 1px solid #dfdfdf;\">Sorry...</div></td></tr></table></div><div style=\"margin-left: 4em;\"><h1>We're sorry...</h1><p>... but your computer or network may be sending automated queries. To protect our users,  we can't process your request right now.</p></div><div style=\"margin-left: 4em;\">See <a href=\"https://support.google.com/websearch/answer/86640\">Google Help</a> for more information.<br/><br/></div><div style=\"text-align: center; border-top: 1px solid #dfdfdf;\"><a href=\"https://www.google.com\">Google Home</a></div></body></html>]\n",
      "Index: []\n"
     ]
    }
   ],
   "source": [
    "import pandas as pd\n",
    "import io\n",
    "import requests\n",
    "import time\n",
    " \n",
    "def google_stocks(symbol, startdate = (1, 1, 2005), enddate = None):\n",
    " \n",
    "    startdate = str(startdate[0]) + '+' + str(startdate[1]) + '+' + str(startdate[2])\n",
    " \n",
    "    if not enddate:\n",
    "        enddate = time.strftime(\"%m+%d+%Y\")\n",
    "    else:\n",
    "        enddate = str(enddate[0]) + '+' + str(enddate[1]) + '+' + str(enddate[2])\n",
    " \n",
    "    stock_url = \"http://www.google.com/finance/historical?q=\" + symbol + \\\n",
    "                \"&startdate=\" + startdate + \"&enddate=\" + enddate + \"&output=csv\"\n",
    " \n",
    "    raw_response = requests.get(stock_url).content\n",
    " \n",
    "    stock_data = pd.read_csv(io.StringIO(raw_response.decode('utf-8')))\n",
    " \n",
    "    return stock_data\n",
    " \n",
    " \n",
    "if __name__ == '__main__':\n",
    "    apple_data = google_stocks('AAPL')\n",
    "    print(apple_data)\n",
    " \n",
    "    apple_truncated = google_stocks('AAPL', enddate = (1, 1, 2006))\n",
    "    print(apple_truncated)"
   ]
  },
  {
   "cell_type": "code",
   "execution_count": 96,
   "metadata": {
    "collapsed": false
   },
   "outputs": [
    {
     "data": {
      "text/plain": [
       "11.17"
      ]
     },
     "execution_count": 96,
     "metadata": {},
     "output_type": "execute_result"
    }
   ],
   "source": [
    "df['Close'].min()"
   ]
  },
  {
   "cell_type": "code",
   "execution_count": 97,
   "metadata": {
    "collapsed": false
   },
   "outputs": [
    {
     "data": {
      "image/png": "[encoded data removed]",
      "text/plain": [
       "<Figure size 432x288 with 1 Axes>"
      ]
     },
     "metadata": {},
     "output_type": "display_data"
    }
   ],
   "source": [
    "plt.plot(df['Close'])\n",
    "plt.show()"
   ]
  }
 ],
 "metadata": {
  "kernelspec": {
   "display_name": "Python 3",
   "language": "python",
   "name": "python3"
  },
  "language_info": {
   "codemirror_mode": {
    "name": "ipython",
    "version": 3
   },
   "file_extension": ".py",
   "mimetype": "text/x-python",
   "name": "python",
   "nbconvert_exporter": "python",
   "pygments_lexer": "ipython3",
   "version": "3.6.4"
  }
 },
 "nbformat": 4,
 "nbformat_minor": 2
}
