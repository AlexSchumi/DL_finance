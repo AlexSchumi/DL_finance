{
 "cells": [
  {
   "cell_type": "code",
   "execution_count": 1,
   "metadata": {
    "collapsed": true
   },
   "outputs": [],
   "source": [
    "# This script is to store all image into matrix for processing data\n",
    "import pandas as pd\n",
    "import numpy as np\n",
    "import matplotlib.pyplot as plt\n",
    "from skimage import io, img_as_float\n",
    "import matplotlib.image as mpimg\n",
    "from PIL import Image \n",
    "import pickle"
   ]
  },
  {
   "cell_type": "code",
   "execution_count": 2,
   "metadata": {
    "collapsed": false
   },
   "outputs": [],
   "source": [
    "data = pd.read_csv('preprocessed_sp500.csv', sep='\\t')\n",
    "data = data.iloc[:,1:]\n",
    "\n",
    "## Continue to preprocess the data to same scale, use the entry day as the basis and calculate daily return in the window\n",
    "stock_data = data.iloc[:,:90]\n",
    "temp = stock_data.iloc[:,15]\n",
    "stock_data = stock_data.sub(temp,axis=0)\n",
    "stock_data = stock_data.div(temp, axis=0)"
   ]
  },
  {
   "cell_type": "code",
   "execution_count": 5,
   "metadata": {
    "collapsed": false
   },
   "outputs": [],
   "source": [
    "image_data = []\n",
    "for i in range(stock_data.shape[0]):\n",
    "    close_price = stock_data.iloc[i,:90]\n",
    "    fig = plt.figure()\n",
    "    ax = plt.subplot(111)\n",
    "    plt.axis('off')\n",
    "    ax.plot(close_price, 'k')\n",
    "    fig.savefig('myfig.png')\n",
    "    plt.close(fig)\n",
    "    img = Image.open('myfig.png').convert('L') # convert the image to grayscale\n",
    "    new_img = img.resize((128,128)) # set the pixel for image\n",
    "    new_img.save('grey.png')\n",
    "    #plt.close(new_img)\n",
    "    image = mpimg.imread('grey.png') # grayscale image pixel for plot\n",
    "    image_data.append(image)\n",
    "\n",
    "image_matrix = np.zeros((stock_data.shape[0], 128*128))\n",
    "for i in range(len(image_data)):\n",
    "    image_matrix[i,:] = np.reshape(image_data[i],-1)"
   ]
  },
  {
   "cell_type": "code",
   "execution_count": 4,
   "metadata": {
    "collapsed": false
   },
   "outputs": [],
   "source": [
    "processed_image_data = {}\n",
    "processed_image_data['image'] = image_data\n",
    "processed_image_data['day'] = data['days']\n",
    "processed_image_data['response'] = data['response']"
   ]
  },
  {
   "cell_type": "code",
   "execution_count": 14,
   "metadata": {
    "collapsed": false
   },
   "outputs": [],
   "source": [
    "df = pd.DataFrame(data=image_matrix)\n",
    "df.to_csv('image_matrix.csv')"
   ]
  },
  {
   "cell_type": "code",
   "execution_count": null,
   "metadata": {
    "collapsed": false
   },
   "outputs": [],
   "source": [
    "pd.concat([df,data['days'], data['response']], axis=0, ignore_index=True)"
   ]
  },
  {
   "cell_type": "code",
   "execution_count": null,
   "metadata": {
    "collapsed": false
   },
   "outputs": [],
   "source": [
    "close_price = stock_data.iloc[1,:90]\n",
    "fig = plt.figure()\n",
    "ax = plt.subplot(111)\n",
    "plt.axis('off')\n",
    "ax.plot(close_price, 'k')\n",
    "    #plt.plot(close_price)\n",
    "    #plt.show()    \n",
    "fig.savefig('myfig.png')\n",
    "image = mpimg.imread('myfig.png')\n",
    "\n",
    "img = Image.open('myfig.png').convert('L')\n",
    "new_img = img.resize((512,512))\n",
    "new_img.save('grey.png')\n",
    "image = mpimg.imread('grey.png')"
   ]
  }
 ],
 "metadata": {
  "kernelspec": {
   "display_name": "Python 3",
   "language": "python",
   "name": "python3"
  },
  "language_info": {
   "codemirror_mode": {
    "name": "ipython",
    "version": 3
   },
   "file_extension": ".py",
   "mimetype": "text/x-python",
   "name": "python",
   "nbconvert_exporter": "python",
   "pygments_lexer": "ipython3",
   "version": "3.6.4"
  }
 },
 "nbformat": 4,
 "nbformat_minor": 2
}
