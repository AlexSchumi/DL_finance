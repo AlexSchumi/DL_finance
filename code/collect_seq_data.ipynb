{
 "cells": [
  {
   "cell_type": "code",
   "execution_count": 1,
   "metadata": {
    "collapsed": false
   },
   "outputs": [],
   "source": [
    "\"\"\"\n",
    "This file is to process data with volume as covariates\n",
    "\"\"\"\n",
    "import Google_API\n",
    "# pprint library is used to make the output look more pretty\n",
    "from pprint import pprint\n",
    "import datetime\n",
    "import matplotlib.pyplot as plt\n",
    "import pandas as pd\n",
    "import numpy as np\n",
    "from googlefinance.client import get_price_data, get_prices_data, get_prices_time_data\n",
    "from skimage import io, img_as_float\n",
    "\n",
    "import matplotlib.image as mpimg\n",
    "from PIL import Image "
   ]
  },
  {
   "cell_type": "code",
   "execution_count": 2,
   "metadata": {
    "collapsed": true
   },
   "outputs": [],
   "source": [
    "# Get all symbols for SP500\n",
    "SYM = pd.read_csv('SPstocks_current.csv', header=None)\n",
    "SYM = list(SYM.iloc[:,0]) # turn all SP500 symbols into list"
   ]
  },
  {
   "cell_type": "code",
   "execution_count": 3,
   "metadata": {
    "collapsed": false
   },
   "outputs": [],
   "source": [
    "# list.append will get([],[]) lists\n",
    "# list.extend will get a whole list with extended length\n",
    "name = [\"s\" + str(i) for i in range(1,91)]\n",
    "name.extend(['days','response', 'ticker'])\n",
    "# create a data frame with specific length of columns\n",
    "stock_data = pd.DataFrame(columns =  name)\n",
    "vol_data = pd.DataFrame(columns=[\"s\" + str(i) for i in range(1,91)])"
   ]
  },
  {
   "cell_type": "code",
   "execution_count": 5,
   "metadata": {
    "collapsed": false
   },
   "outputs": [],
   "source": [
    "## Store all training examples in a data_frame\n",
    "for sm in SYM:\n",
    "    d = Google_API.get_price(sm)\n",
    "    st_price = d['Close'].tolist()\n",
    "    vol = d['Volume'].tolist()\n",
    "    [idx, res_d, res_idx] = Google_API.search_all_patterns(st_price)\n",
    "    for i in range(len(idx)):\n",
    "        index = idx[i]\n",
    "        day = res_d[i]\n",
    "        res = res_idx[i]\n",
    "        close_price = st_price[index-15:index+75]\n",
    "        volume_data = vol[index-15:index+75]\n",
    "        close_price.extend([day, res, sm])\n",
    "        if len(close_price) != 93:\n",
    "            pass\n",
    "        else:\n",
    "            stock_data = stock_data.append(pd.Series(close_price, index=name), ignore_index=True)\n",
    "            vol_data = vol_data.append(pd.Series(volume_data, [\"s\" + str(i) for i in range(1,91)]), ignore_index=True)"
   ]
  },
  {
   "cell_type": "code",
   "execution_count": 6,
   "metadata": {
    "collapsed": false
   },
   "outputs": [],
   "source": [
    "vol_data.to_csv('volume_sp500.csv', sep='\\t', encoding='utf-8')\n",
    "stock_data.to_csv('vol_sp500_price.csv', sep='\\t', encoding='utf-8')"
   ]
  }
 ],
 "metadata": {
  "kernelspec": {
   "display_name": "Python 3",
   "language": "python",
   "name": "python3"
  },
  "language_info": {
   "codemirror_mode": {
    "name": "ipython",
    "version": 3
   },
   "file_extension": ".py",
   "mimetype": "text/x-python",
   "name": "python",
   "nbconvert_exporter": "python",
   "pygments_lexer": "ipython3",
   "version": "3.6.4"
  }
 },
 "nbformat": 4,
 "nbformat_minor": 2
}
