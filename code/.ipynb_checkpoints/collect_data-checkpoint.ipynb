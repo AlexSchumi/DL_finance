{
 "cells": [
  {
   "cell_type": "code",
   "execution_count": 1,
   "metadata": {
    "collapsed": false
   },
   "outputs": [],
   "source": [
    "\"\"\"\n",
    "This file is to preprocess stock data into .csv file\n",
    "\"\"\"\n",
    "\n",
    "import Google_API\n",
    "# pprint library is used to make the output look more pretty\n",
    "from pprint import pprint\n",
    "import datetime\n",
    "import matplotlib.pyplot as plt\n",
    "import pandas as pd\n",
    "import numpy as np\n",
    "from googlefinance.client import get_price_data, get_prices_data, get_prices_time_data\n",
    "from skimage import io, img_as_float\n",
    "\n",
    "import matplotlib.image as mpimg\n",
    "from PIL import Image "
   ]
  },
  {
   "cell_type": "code",
   "execution_count": 2,
   "metadata": {
    "collapsed": true
   },
   "outputs": [],
   "source": [
    "# Get all symbols for SP500\n",
    "SYM = pd.read_csv('SPstocks_current.csv', header=None)\n",
    "SYM = list(SYM.iloc[:,0]) # turn all SP500 symbols into list\n",
    "# list.append will get([],[]) lists\n",
    "# list.extend will get a whole list with extended length\n",
    "name = [\"s\" + str(i) for i in range(1,91)]\n",
    "name.extend(['days', 'response', 'ticker'])"
   ]
  },
  {
   "cell_type": "code",
   "execution_count": 4,
   "metadata": {
    "collapsed": false
   },
   "outputs": [],
   "source": [
    "# create a data frame with specific length of columns\n",
    "stock_data = pd.DataFrame(columns =  name)\n",
    "## Store all training examples in a data_frame\n",
    "for sm in SYM:\n",
    "    print(sm)\n",
    "    st_price = Google_API.get_price(sm)['Close'].tolist()\n",
    "    [idx, res_d, res_idx] = Google_API.search_all_patterns(st_price)\n",
    "    for i in range(len(idx)):\n",
    "        index = idx[i]\n",
    "        day = res_d[i]\n",
    "        res = res_idx[i]\n",
    "        close_price = st_price[index-15:index+75]\n",
    "        close_price.extend([day, res, sm])\n",
    "        if len(close_price) != 93:\n",
    "            pass\n",
    "        else:\n",
    "            stock_data = stock_data.append(pd.Series(close_price, index=name), ignore_index=True)\n",
    "stock_data.to_csv('preprocessed_sp500.csv', sep='\\t', encoding='utf-8')\n",
    "stock_data.head()"
   ]
  }
 ],
 "metadata": {
  "kernelspec": {
   "display_name": "Python 3",
   "language": "python",
   "name": "python3"
  },
  "language_info": {
   "codemirror_mode": {
    "name": "ipython",
    "version": 3
   },
   "file_extension": ".py",
   "mimetype": "text/x-python",
   "name": "python",
   "nbconvert_exporter": "python",
   "pygments_lexer": "ipython3",
   "version": "3.6.4"
  }
 },
 "nbformat": 4,
 "nbformat_minor": 2
}
